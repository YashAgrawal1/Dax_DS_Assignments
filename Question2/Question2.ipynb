{
 "cells": [
  {
   "cell_type": "code",
   "execution_count": 1,
   "id": "d6faa8f6-71c8-4e1c-a307-23b54890d003",
   "metadata": {},
   "outputs": [
    {
     "name": "stdout",
     "output_type": "stream",
     "text": [
      "Defaulting to user installation because normal site-packages is not writeable\n",
      "Requirement already satisfied: scikit-learn in c:\\users\\yagraw\\appdata\\roaming\\python\\python310\\site-packages (1.3.0)\n",
      "Requirement already satisfied: scipy in c:\\users\\yagraw\\appdata\\roaming\\python\\python310\\site-packages (1.11.1)\n",
      "Requirement already satisfied: matplotlib in c:\\users\\yagraw\\appdata\\roaming\\python\\python310\\site-packages (3.7.2)\n",
      "Requirement already satisfied: threadpoolctl>=2.0.0 in c:\\users\\yagraw\\appdata\\roaming\\python\\python310\\site-packages (from scikit-learn) (3.2.0)\n",
      "Requirement already satisfied: numpy>=1.17.3 in c:\\users\\yagraw\\appdata\\roaming\\python\\python310\\site-packages (from scikit-learn) (1.25.1)\n",
      "Requirement already satisfied: joblib>=1.1.1 in c:\\users\\yagraw\\appdata\\roaming\\python\\python310\\site-packages (from scikit-learn) (1.3.1)\n",
      "Requirement already satisfied: cycler>=0.10 in c:\\users\\yagraw\\appdata\\roaming\\python\\python310\\site-packages (from matplotlib) (0.11.0)\n",
      "Requirement already satisfied: fonttools>=4.22.0 in c:\\users\\yagraw\\appdata\\roaming\\python\\python310\\site-packages (from matplotlib) (4.41.1)\n",
      "Requirement already satisfied: python-dateutil>=2.7 in c:\\users\\yagraw\\appdata\\roaming\\python\\python310\\site-packages (from matplotlib) (2.8.2)\n",
      "Requirement already satisfied: pillow>=6.2.0 in c:\\users\\yagraw\\appdata\\roaming\\python\\python310\\site-packages (from matplotlib) (10.0.0)\n",
      "Requirement already satisfied: pyparsing<3.1,>=2.3.1 in c:\\users\\yagraw\\appdata\\roaming\\python\\python310\\site-packages (from matplotlib) (3.0.9)\n",
      "Requirement already satisfied: contourpy>=1.0.1 in c:\\users\\yagraw\\appdata\\roaming\\python\\python310\\site-packages (from matplotlib) (1.1.0)\n",
      "Requirement already satisfied: kiwisolver>=1.0.1 in c:\\users\\yagraw\\appdata\\roaming\\python\\python310\\site-packages (from matplotlib) (1.4.4)\n",
      "Requirement already satisfied: packaging>=20.0 in c:\\users\\yagraw\\appdata\\roaming\\python\\python310\\site-packages (from matplotlib) (23.1)\n",
      "Requirement already satisfied: six>=1.5 in c:\\users\\yagraw\\appdata\\roaming\\python\\python310\\site-packages (from python-dateutil>=2.7->matplotlib) (1.16.0)\n"
     ]
    },
    {
     "name": "stderr",
     "output_type": "stream",
     "text": [
      "\n",
      "[notice] A new release of pip is available: 23.0.1 -> 23.2.1\n",
      "[notice] To update, run: python.exe -m pip install --upgrade pip\n"
     ]
    }
   ],
   "source": [
    "import pandas as pd\n",
    "!pip install scikit-learn scipy matplotlib"
   ]
  },
  {
   "cell_type": "code",
   "execution_count": 2,
   "id": "68167534-a816-403d-813c-37b29b29bc8a",
   "metadata": {},
   "outputs": [],
   "source": [
    "file = pd.read_csv(\"healthcare-dataset-stroke-data.csv\")"
   ]
  },
  {
   "cell_type": "code",
   "execution_count": 3,
   "id": "3d28c3fb-d3c1-446d-b718-f48d2f3ded6b",
   "metadata": {},
   "outputs": [
    {
     "data": {
      "text/html": [
       "<div>\n",
       "<style scoped>\n",
       "    .dataframe tbody tr th:only-of-type {\n",
       "        vertical-align: middle;\n",
       "    }\n",
       "\n",
       "    .dataframe tbody tr th {\n",
       "        vertical-align: top;\n",
       "    }\n",
       "\n",
       "    .dataframe thead th {\n",
       "        text-align: right;\n",
       "    }\n",
       "</style>\n",
       "<table border=\"1\" class=\"dataframe\">\n",
       "  <thead>\n",
       "    <tr style=\"text-align: right;\">\n",
       "      <th></th>\n",
       "      <th>id</th>\n",
       "      <th>gender</th>\n",
       "      <th>age</th>\n",
       "      <th>hypertension</th>\n",
       "      <th>heart_disease</th>\n",
       "      <th>ever_married</th>\n",
       "      <th>work_type</th>\n",
       "      <th>Residence_type</th>\n",
       "      <th>avg_glucose_level</th>\n",
       "      <th>bmi</th>\n",
       "      <th>smoking_status</th>\n",
       "      <th>stroke</th>\n",
       "    </tr>\n",
       "  </thead>\n",
       "  <tbody>\n",
       "    <tr>\n",
       "      <th>0</th>\n",
       "      <td>9046</td>\n",
       "      <td>Male</td>\n",
       "      <td>67.0</td>\n",
       "      <td>0</td>\n",
       "      <td>1</td>\n",
       "      <td>Yes</td>\n",
       "      <td>Private</td>\n",
       "      <td>Urban</td>\n",
       "      <td>228.69</td>\n",
       "      <td>36.6</td>\n",
       "      <td>formerly smoked</td>\n",
       "      <td>1</td>\n",
       "    </tr>\n",
       "    <tr>\n",
       "      <th>1</th>\n",
       "      <td>51676</td>\n",
       "      <td>Female</td>\n",
       "      <td>61.0</td>\n",
       "      <td>0</td>\n",
       "      <td>0</td>\n",
       "      <td>Yes</td>\n",
       "      <td>Self-employed</td>\n",
       "      <td>Rural</td>\n",
       "      <td>202.21</td>\n",
       "      <td>NaN</td>\n",
       "      <td>never smoked</td>\n",
       "      <td>1</td>\n",
       "    </tr>\n",
       "    <tr>\n",
       "      <th>2</th>\n",
       "      <td>31112</td>\n",
       "      <td>Male</td>\n",
       "      <td>80.0</td>\n",
       "      <td>0</td>\n",
       "      <td>1</td>\n",
       "      <td>Yes</td>\n",
       "      <td>Private</td>\n",
       "      <td>Rural</td>\n",
       "      <td>105.92</td>\n",
       "      <td>32.5</td>\n",
       "      <td>never smoked</td>\n",
       "      <td>1</td>\n",
       "    </tr>\n",
       "    <tr>\n",
       "      <th>3</th>\n",
       "      <td>60182</td>\n",
       "      <td>Female</td>\n",
       "      <td>49.0</td>\n",
       "      <td>0</td>\n",
       "      <td>0</td>\n",
       "      <td>Yes</td>\n",
       "      <td>Private</td>\n",
       "      <td>Urban</td>\n",
       "      <td>171.23</td>\n",
       "      <td>34.4</td>\n",
       "      <td>smokes</td>\n",
       "      <td>1</td>\n",
       "    </tr>\n",
       "    <tr>\n",
       "      <th>4</th>\n",
       "      <td>1665</td>\n",
       "      <td>Female</td>\n",
       "      <td>79.0</td>\n",
       "      <td>1</td>\n",
       "      <td>0</td>\n",
       "      <td>Yes</td>\n",
       "      <td>Self-employed</td>\n",
       "      <td>Rural</td>\n",
       "      <td>174.12</td>\n",
       "      <td>24.0</td>\n",
       "      <td>never smoked</td>\n",
       "      <td>1</td>\n",
       "    </tr>\n",
       "  </tbody>\n",
       "</table>\n",
       "</div>"
      ],
      "text/plain": [
       "      id  gender   age  hypertension  heart_disease ever_married  \\\n",
       "0   9046    Male  67.0             0              1          Yes   \n",
       "1  51676  Female  61.0             0              0          Yes   \n",
       "2  31112    Male  80.0             0              1          Yes   \n",
       "3  60182  Female  49.0             0              0          Yes   \n",
       "4   1665  Female  79.0             1              0          Yes   \n",
       "\n",
       "       work_type Residence_type  avg_glucose_level   bmi   smoking_status  \\\n",
       "0        Private          Urban             228.69  36.6  formerly smoked   \n",
       "1  Self-employed          Rural             202.21   NaN     never smoked   \n",
       "2        Private          Rural             105.92  32.5     never smoked   \n",
       "3        Private          Urban             171.23  34.4           smokes   \n",
       "4  Self-employed          Rural             174.12  24.0     never smoked   \n",
       "\n",
       "   stroke  \n",
       "0       1  \n",
       "1       1  \n",
       "2       1  \n",
       "3       1  \n",
       "4       1  "
      ]
     },
     "execution_count": 3,
     "metadata": {},
     "output_type": "execute_result"
    }
   ],
   "source": [
    "type(file)\n",
    "file.head()"
   ]
  },
  {
   "cell_type": "code",
   "execution_count": 4,
   "id": "b501e5ac-94fe-4655-ad72-40217d7ac56d",
   "metadata": {},
   "outputs": [],
   "source": [
    "import numpy as np"
   ]
  },
  {
   "cell_type": "code",
   "execution_count": 5,
   "id": "42c91747-8546-4632-bcee-71c8f41bfd6b",
   "metadata": {},
   "outputs": [
    {
     "data": {
      "text/plain": [
       "5110"
      ]
     },
     "execution_count": 5,
     "metadata": {},
     "output_type": "execute_result"
    }
   ],
   "source": [
    "len(file)"
   ]
  },
  {
   "cell_type": "code",
   "execution_count": 6,
   "id": "d73b51b5-ccc9-459d-9b10-38105a9034a9",
   "metadata": {},
   "outputs": [
    {
     "name": "stdout",
     "output_type": "stream",
     "text": [
      "id                     0\n",
      "gender                 0\n",
      "age                    0\n",
      "hypertension           0\n",
      "heart_disease          0\n",
      "ever_married           0\n",
      "work_type              0\n",
      "Residence_type         0\n",
      "avg_glucose_level      0\n",
      "bmi                  201\n",
      "smoking_status         0\n",
      "stroke                 0\n",
      "dtype: int64\n"
     ]
    }
   ],
   "source": [
    "data = pd.DataFrame(file)\n",
    "print(data.isnull().sum())"
   ]
  },
  {
   "cell_type": "code",
   "execution_count": 7,
   "id": "90d20308-b3d5-427b-825e-72a70c0f56e7",
   "metadata": {},
   "outputs": [
    {
     "name": "stdout",
     "output_type": "stream",
     "text": [
      "mean age: 43.226614481409\n"
     ]
    }
   ],
   "source": [
    "print('mean age: ' + str(file['age'].mean()))"
   ]
  },
  {
   "cell_type": "code",
   "execution_count": 8,
   "id": "d22b379b-0e85-494d-ad4a-573516adbc55",
   "metadata": {},
   "outputs": [
    {
     "name": "stdout",
     "output_type": "stream",
     "text": [
      "median age: 45.0\n"
     ]
    }
   ],
   "source": [
    "print('median age: ' + str(file['age'].median()))"
   ]
  },
  {
   "cell_type": "code",
   "execution_count": 9,
   "id": "5fb8f2f7-6855-4a05-8e44-630a8314876f",
   "metadata": {},
   "outputs": [
    {
     "name": "stdout",
     "output_type": "stream",
     "text": [
      "mean avg_glucose_level: 106.1476771037182\n",
      "median avg_glucose_level: 91.88499999999999\n"
     ]
    }
   ],
   "source": [
    "print('mean avg_glucose_level: ' + str(file['avg_glucose_level'].mean()))\n",
    "print('median avg_glucose_level: ' + str(file['avg_glucose_level'].median()))"
   ]
  },
  {
   "cell_type": "code",
   "execution_count": 10,
   "id": "8872b31c-538e-4305-9a1c-fdb2a788d26c",
   "metadata": {},
   "outputs": [
    {
     "name": "stdout",
     "output_type": "stream",
     "text": [
      "mean bmi: 28.893236911794666\n",
      "median bmi: 28.1\n"
     ]
    }
   ],
   "source": [
    "print('mean bmi: ' + str(file['bmi'].mean()))\n",
    "print('median bmi: ' + str(file['bmi'].median()))"
   ]
  },
  {
   "cell_type": "code",
   "execution_count": 11,
   "id": "f9e8a99b-98b6-4444-98b9-2a3eb1baca7e",
   "metadata": {},
   "outputs": [
    {
     "name": "stdout",
     "output_type": "stream",
     "text": [
      "std age: 22.61264672311349\n",
      "std avg_glucose_level: 45.28356015058198\n",
      "std bmi: 7.854066729680164\n"
     ]
    }
   ],
   "source": [
    "print('std age: ' + str(file['age'].std()))\n",
    "print('std avg_glucose_level: ' + str(file['avg_glucose_level'].std()))\n",
    "print('std bmi: ' + str(file['bmi'].std()))"
   ]
  },
  {
   "cell_type": "code",
   "execution_count": 12,
   "id": "fffe087f-c9e6-4706-a7ec-0a318dc6eddb",
   "metadata": {
    "scrolled": true
   },
   "outputs": [
    {
     "name": "stdout",
     "output_type": "stream",
     "text": [
      "Statistics for each column\n"
     ]
    },
    {
     "data": {
      "text/html": [
       "<div>\n",
       "<style scoped>\n",
       "    .dataframe tbody tr th:only-of-type {\n",
       "        vertical-align: middle;\n",
       "    }\n",
       "\n",
       "    .dataframe tbody tr th {\n",
       "        vertical-align: top;\n",
       "    }\n",
       "\n",
       "    .dataframe thead th {\n",
       "        text-align: right;\n",
       "    }\n",
       "</style>\n",
       "<table border=\"1\" class=\"dataframe\">\n",
       "  <thead>\n",
       "    <tr style=\"text-align: right;\">\n",
       "      <th></th>\n",
       "      <th>id</th>\n",
       "      <th>age</th>\n",
       "      <th>hypertension</th>\n",
       "      <th>heart_disease</th>\n",
       "      <th>avg_glucose_level</th>\n",
       "      <th>bmi</th>\n",
       "      <th>stroke</th>\n",
       "    </tr>\n",
       "  </thead>\n",
       "  <tbody>\n",
       "    <tr>\n",
       "      <th>count</th>\n",
       "      <td>5110.000000</td>\n",
       "      <td>5110.000000</td>\n",
       "      <td>5110.000000</td>\n",
       "      <td>5110.000000</td>\n",
       "      <td>5110.000000</td>\n",
       "      <td>4909.000000</td>\n",
       "      <td>5110.000000</td>\n",
       "    </tr>\n",
       "    <tr>\n",
       "      <th>mean</th>\n",
       "      <td>36517.829354</td>\n",
       "      <td>43.226614</td>\n",
       "      <td>0.097456</td>\n",
       "      <td>0.054012</td>\n",
       "      <td>106.147677</td>\n",
       "      <td>28.893237</td>\n",
       "      <td>0.048728</td>\n",
       "    </tr>\n",
       "    <tr>\n",
       "      <th>std</th>\n",
       "      <td>21161.721625</td>\n",
       "      <td>22.612647</td>\n",
       "      <td>0.296607</td>\n",
       "      <td>0.226063</td>\n",
       "      <td>45.283560</td>\n",
       "      <td>7.854067</td>\n",
       "      <td>0.215320</td>\n",
       "    </tr>\n",
       "    <tr>\n",
       "      <th>min</th>\n",
       "      <td>67.000000</td>\n",
       "      <td>0.080000</td>\n",
       "      <td>0.000000</td>\n",
       "      <td>0.000000</td>\n",
       "      <td>55.120000</td>\n",
       "      <td>10.300000</td>\n",
       "      <td>0.000000</td>\n",
       "    </tr>\n",
       "    <tr>\n",
       "      <th>25%</th>\n",
       "      <td>17741.250000</td>\n",
       "      <td>25.000000</td>\n",
       "      <td>0.000000</td>\n",
       "      <td>0.000000</td>\n",
       "      <td>77.245000</td>\n",
       "      <td>23.500000</td>\n",
       "      <td>0.000000</td>\n",
       "    </tr>\n",
       "    <tr>\n",
       "      <th>50%</th>\n",
       "      <td>36932.000000</td>\n",
       "      <td>45.000000</td>\n",
       "      <td>0.000000</td>\n",
       "      <td>0.000000</td>\n",
       "      <td>91.885000</td>\n",
       "      <td>28.100000</td>\n",
       "      <td>0.000000</td>\n",
       "    </tr>\n",
       "    <tr>\n",
       "      <th>75%</th>\n",
       "      <td>54682.000000</td>\n",
       "      <td>61.000000</td>\n",
       "      <td>0.000000</td>\n",
       "      <td>0.000000</td>\n",
       "      <td>114.090000</td>\n",
       "      <td>33.100000</td>\n",
       "      <td>0.000000</td>\n",
       "    </tr>\n",
       "    <tr>\n",
       "      <th>max</th>\n",
       "      <td>72940.000000</td>\n",
       "      <td>82.000000</td>\n",
       "      <td>1.000000</td>\n",
       "      <td>1.000000</td>\n",
       "      <td>271.740000</td>\n",
       "      <td>97.600000</td>\n",
       "      <td>1.000000</td>\n",
       "    </tr>\n",
       "  </tbody>\n",
       "</table>\n",
       "</div>"
      ],
      "text/plain": [
       "                 id          age  hypertension  heart_disease  \\\n",
       "count   5110.000000  5110.000000   5110.000000    5110.000000   \n",
       "mean   36517.829354    43.226614      0.097456       0.054012   \n",
       "std    21161.721625    22.612647      0.296607       0.226063   \n",
       "min       67.000000     0.080000      0.000000       0.000000   \n",
       "25%    17741.250000    25.000000      0.000000       0.000000   \n",
       "50%    36932.000000    45.000000      0.000000       0.000000   \n",
       "75%    54682.000000    61.000000      0.000000       0.000000   \n",
       "max    72940.000000    82.000000      1.000000       1.000000   \n",
       "\n",
       "       avg_glucose_level          bmi       stroke  \n",
       "count        5110.000000  4909.000000  5110.000000  \n",
       "mean          106.147677    28.893237     0.048728  \n",
       "std            45.283560     7.854067     0.215320  \n",
       "min            55.120000    10.300000     0.000000  \n",
       "25%            77.245000    23.500000     0.000000  \n",
       "50%            91.885000    28.100000     0.000000  \n",
       "75%           114.090000    33.100000     0.000000  \n",
       "max           271.740000    97.600000     1.000000  "
      ]
     },
     "execution_count": 12,
     "metadata": {},
     "output_type": "execute_result"
    }
   ],
   "source": [
    "\n",
    "print('Statistics for each column')\n",
    "file[file.select_dtypes(include=[np.number]).columns].describe()"
   ]
  },
  {
   "cell_type": "code",
   "execution_count": 13,
   "id": "aa9921a5-5bbb-4033-998f-ea86b569835c",
   "metadata": {},
   "outputs": [
    {
     "name": "stderr",
     "output_type": "stream",
     "text": [
      "\n",
      "[notice] A new release of pip is available: 23.0.1 -> 23.2.1\n",
      "[notice] To update, run: python.exe -m pip install --upgrade pip\n"
     ]
    },
    {
     "name": "stdout",
     "output_type": "stream",
     "text": [
      "Defaulting to user installation because normal site-packages is not writeable\n",
      "Requirement already satisfied: matplotlib in c:\\users\\yagraw\\appdata\\roaming\\python\\python310\\site-packages (3.7.2)\n",
      "Requirement already satisfied: packaging>=20.0 in c:\\users\\yagraw\\appdata\\roaming\\python\\python310\\site-packages (from matplotlib) (23.1)\n",
      "Requirement already satisfied: python-dateutil>=2.7 in c:\\users\\yagraw\\appdata\\roaming\\python\\python310\\site-packages (from matplotlib) (2.8.2)\n",
      "Requirement already satisfied: fonttools>=4.22.0 in c:\\users\\yagraw\\appdata\\roaming\\python\\python310\\site-packages (from matplotlib) (4.41.1)\n",
      "Requirement already satisfied: pyparsing<3.1,>=2.3.1 in c:\\users\\yagraw\\appdata\\roaming\\python\\python310\\site-packages (from matplotlib) (3.0.9)\n",
      "Requirement already satisfied: pillow>=6.2.0 in c:\\users\\yagraw\\appdata\\roaming\\python\\python310\\site-packages (from matplotlib) (10.0.0)\n",
      "Requirement already satisfied: numpy>=1.20 in c:\\users\\yagraw\\appdata\\roaming\\python\\python310\\site-packages (from matplotlib) (1.25.1)\n",
      "Requirement already satisfied: kiwisolver>=1.0.1 in c:\\users\\yagraw\\appdata\\roaming\\python\\python310\\site-packages (from matplotlib) (1.4.4)\n",
      "Requirement already satisfied: contourpy>=1.0.1 in c:\\users\\yagraw\\appdata\\roaming\\python\\python310\\site-packages (from matplotlib) (1.1.0)\n",
      "Requirement already satisfied: cycler>=0.10 in c:\\users\\yagraw\\appdata\\roaming\\python\\python310\\site-packages (from matplotlib) (0.11.0)\n",
      "Requirement already satisfied: six>=1.5 in c:\\users\\yagraw\\appdata\\roaming\\python\\python310\\site-packages (from python-dateutil>=2.7->matplotlib) (1.16.0)\n"
     ]
    }
   ],
   "source": [
    "!pip install matplotlib\n",
    "import matplotlib.pyplot as plt"
   ]
  },
  {
   "cell_type": "code",
   "execution_count": 14,
   "id": "e0f6b68f-e6a0-4c29-8289-01856f822627",
   "metadata": {},
   "outputs": [
    {
     "data": {
      "image/png": "[encoded data removed]",
      "text/plain": [
       "<Figure size 600x400 with 1 Axes>"
      ]
     },
     "metadata": {},
     "output_type": "display_data"
    }
   ],
   "source": [
    "genderCounts = file['gender'].value_counts()\n",
    "\n",
    "# Distribution of strokes cases based on gender ,1st Chart\n",
    "plt.figure(figsize=(6, 4))\n",
    "plt.bar(genderCounts.index, genderCounts.values, color=['blue', 'red'])\n",
    "plt.xlabel('Gender')\n",
    "plt.ylabel('Number of Stroke Cases')\n",
    "plt.title('Distribution of Stroke Cases by Gender')\n",
    "plt.show()"
   ]
  },
  {
   "cell_type": "code",
   "execution_count": 15,
   "id": "4a8e3a58-5dd5-444b-b75f-8890eae70b77",
   "metadata": {},
   "outputs": [],
   "source": [
    " #This bar chart shows the distribution of stroke cases based on gender. By this we can conclude which gender have more stroke cases\n"
   ]
  },
  {
   "cell_type": "code",
   "execution_count": 16,
   "id": "bda6e3a3-3ed2-41f9-95a2-17b5a6cdefef",
   "metadata": {},
   "outputs": [
    {
     "name": "stdout",
     "output_type": "stream",
     "text": [
      "Defaulting to user installation because normal site-packages is not writeable\n",
      "Requirement already satisfied: seaborn in c:\\users\\yagraw\\appdata\\roaming\\python\\python310\\site-packages (0.12.2)\n",
      "Requirement already satisfied: pandas>=0.25 in c:\\users\\yagraw\\appdata\\roaming\\python\\python310\\site-packages (from seaborn) (2.0.3)\n",
      "Requirement already satisfied: numpy!=1.24.0,>=1.17 in c:\\users\\yagraw\\appdata\\roaming\\python\\python310\\site-packages (from seaborn) (1.25.1)\n",
      "Requirement already satisfied: matplotlib!=3.6.1,>=3.1 in c:\\users\\yagraw\\appdata\\roaming\\python\\python310\\site-packages (from seaborn) (3.7.2)\n",
      "Requirement already satisfied: python-dateutil>=2.7 in c:\\users\\yagraw\\appdata\\roaming\\python\\python310\\site-packages (from matplotlib!=3.6.1,>=3.1->seaborn) (2.8.2)\n",
      "Requirement already satisfied: pyparsing<3.1,>=2.3.1 in c:\\users\\yagraw\\appdata\\roaming\\python\\python310\\site-packages (from matplotlib!=3.6.1,>=3.1->seaborn) (3.0.9)\n",
      "Requirement already satisfied: contourpy>=1.0.1 in c:\\users\\yagraw\\appdata\\roaming\\python\\python310\\site-packages (from matplotlib!=3.6.1,>=3.1->seaborn) (1.1.0)\n",
      "Requirement already satisfied: pillow>=6.2.0 in c:\\users\\yagraw\\appdata\\roaming\\python\\python310\\site-packages (from matplotlib!=3.6.1,>=3.1->seaborn) (10.0.0)\n",
      "Requirement already satisfied: cycler>=0.10 in c:\\users\\yagraw\\appdata\\roaming\\python\\python310\\site-packages (from matplotlib!=3.6.1,>=3.1->seaborn) (0.11.0)\n",
      "Requirement already satisfied: packaging>=20.0 in c:\\users\\yagraw\\appdata\\roaming\\python\\python310\\site-packages (from matplotlib!=3.6.1,>=3.1->seaborn) (23.1)\n",
      "Requirement already satisfied: fonttools>=4.22.0 in c:\\users\\yagraw\\appdata\\roaming\\python\\python310\\site-packages (from matplotlib!=3.6.1,>=3.1->seaborn) (4.41.1)\n",
      "Requirement already satisfied: kiwisolver>=1.0.1 in c:\\users\\yagraw\\appdata\\roaming\\python\\python310\\site-packages (from matplotlib!=3.6.1,>=3.1->seaborn) (1.4.4)\n",
      "Requirement already satisfied: pytz>=2020.1 in c:\\users\\yagraw\\appdata\\roaming\\python\\python310\\site-packages (from pandas>=0.25->seaborn) (2023.3)\n",
      "Requirement already satisfied: tzdata>=2022.1 in c:\\users\\yagraw\\appdata\\roaming\\python\\python310\\site-packages (from pandas>=0.25->seaborn) (2023.3)\n",
      "Requirement already satisfied: six>=1.5 in c:\\users\\yagraw\\appdata\\roaming\\python\\python310\\site-packages (from python-dateutil>=2.7->matplotlib!=3.6.1,>=3.1->seaborn) (1.16.0)\n",
      "Note: you may need to restart the kernel to use updated packages.\n"
     ]
    },
    {
     "name": "stderr",
     "output_type": "stream",
     "text": [
      "\n",
      "[notice] A new release of pip is available: 23.0.1 -> 23.2.1\n",
      "[notice] To update, run: python.exe -m pip install --upgrade pip\n"
     ]
    }
   ],
   "source": [
    "pip install seaborn"
   ]
  },
  {
   "cell_type": "code",
   "execution_count": 17,
   "id": "ecc30031-23a1-4a86-9c50-e9c50ce2bace",
   "metadata": {},
   "outputs": [
    {
     "name": "stdout",
     "output_type": "stream",
     "text": [
      "hypertension\n",
      "0    4612\n",
      "1     498\n",
      "Name: count, dtype: int64\n"
     ]
    },
    {
     "data": {
      "text/plain": [
       "<Axes: title={'center': 'Distribution of Stroke Cases by hypertension'}, xlabel='hypertension', ylabel='count'>"
      ]
     },
     "execution_count": 17,
     "metadata": {},
     "output_type": "execute_result"
    },
    {
     "data": {
      "image/png": "[encoded data removed]",
      "text/plain": [
       "<Figure size 640x480 with 1 Axes>"
      ]
     },
     "metadata": {},
     "output_type": "display_data"
    }
   ],
   "source": [
    "import seaborn\n",
    "print(file['hypertension'].value_counts())\n",
    "plt.title('Distribution of Stroke Cases by hypertension')\n",
    "seaborn.countplot(data=file, x='hypertension', hue='stroke')"
   ]
  },
  {
   "cell_type": "code",
   "execution_count": 18,
   "id": "643727e4-e672-4eca-bcb3-22478e5bba7c",
   "metadata": {},
   "outputs": [],
   "source": [
    "#It can be clearly state that people who are not having hypertension they also can have stroke attack"
   ]
  },
  {
   "cell_type": "code",
   "execution_count": 19,
   "id": "b3f14f29-b08b-400b-b970-be7ea17caaa3",
   "metadata": {},
   "outputs": [
    {
     "name": "stdout",
     "output_type": "stream",
     "text": [
      "work_type\n",
      "Private          2925\n",
      "Self-employed     819\n",
      "children          687\n",
      "Govt_job          657\n",
      "Never_worked       22\n",
      "Name: count, dtype: int64\n"
     ]
    },
    {
     "data": {
      "text/plain": [
       "<Axes: xlabel='work_type', ylabel='count'>"
      ]
     },
     "execution_count": 19,
     "metadata": {},
     "output_type": "execute_result"
    },
    {
     "data": {
      "image/png": "[encoded data removed]",
      "text/plain": [
       "<Figure size 640x480 with 1 Axes>"
      ]
     },
     "metadata": {},
     "output_type": "display_data"
    }
   ],
   "source": [
    "print(file['work_type'].value_counts())\n",
    "seaborn.countplot(data=file, x='work_type', hue='stroke')"
   ]
  },
  {
   "cell_type": "code",
   "execution_count": 20,
   "id": "5086241a-be94-4488-ace3-acf3836e032b",
   "metadata": {},
   "outputs": [],
   "source": [
    "#People in private suffer more stroke than childrean and never worked"
   ]
  },
  {
   "cell_type": "code",
   "execution_count": 21,
   "id": "303e482d-8262-4986-9c09-303643e9a445",
   "metadata": {},
   "outputs": [
    {
     "name": "stdout",
     "output_type": "stream",
     "text": [
      "Is 'BMI' column having null values?  True\n",
      "Percentage of null values in 'BMI' column: 3.93%\n"
     ]
    }
   ],
   "source": [
    "isBmi = file['bmi'].isnull()\n",
    "percentageNullBmi = (isBmi.sum() / len(file)) * 100\n",
    "print(\"Is 'BMI' column having null values? \", isBmi.any())\n",
    "print(\"Percentage of null values in 'BMI' column: {:.2f}%\".format(percentageNullBmi))\n",
    "meanBmi = file['bmi'].mean()\n",
    "file['bmi'].fillna(meanBmi, inplace=True)"
   ]
  },
  {
   "cell_type": "code",
   "execution_count": 22,
   "id": "19fed302-b9b9-47b9-ad00-0af98d2deaf0",
   "metadata": {},
   "outputs": [
    {
     "name": "stdout",
     "output_type": "stream",
     "text": [
      "Is 'BMI' column having null values?  False\n"
     ]
    }
   ],
   "source": [
    "#After filling the null values\n",
    "isBmi = file['bmi'].isnull()\n",
    "percentageNullBmi = (isBmi.sum() / len(file)) * 100\n",
    "print(\"Is 'BMI' column having null values? \", isBmi.any())"
   ]
  },
  {
   "cell_type": "code",
   "execution_count": null,
   "id": "ce1d2bd5-f924-4487-848c-5546d2ab14c6",
   "metadata": {},
   "outputs": [],
   "source": []
  },
  {
   "cell_type": "code",
   "execution_count": 23,
   "id": "ad721949-bc3c-4021-990e-20a3cfa074e4",
   "metadata": {},
   "outputs": [
    {
     "name": "stdout",
     "output_type": "stream",
     "text": [
      "         id  gender   age  hypertension  heart_disease ever_married  \\\n",
      "0      9046    Male  67.0             0              1          Yes   \n",
      "1     51676  Female  61.0             0              0          Yes   \n",
      "2     31112    Male  80.0             0              1          Yes   \n",
      "3     60182  Female  49.0             0              0          Yes   \n",
      "4      1665  Female  79.0             1              0          Yes   \n",
      "...     ...     ...   ...           ...            ...          ...   \n",
      "5104  14180  Female  13.0             0              0           No   \n",
      "5105  18234  Female  80.0             1              0          Yes   \n",
      "5107  19723  Female  35.0             0              0          Yes   \n",
      "5108  37544    Male  51.0             0              0          Yes   \n",
      "5109  44679  Female  44.0             0              0          Yes   \n",
      "\n",
      "          work_type Residence_type  avg_glucose_level        bmi  \\\n",
      "0           Private          Urban             228.69  36.600000   \n",
      "1     Self-employed          Rural             202.21  28.893237   \n",
      "2           Private          Rural             105.92  32.500000   \n",
      "3           Private          Urban             171.23  34.400000   \n",
      "4     Self-employed          Rural             174.12  24.000000   \n",
      "...             ...            ...                ...        ...   \n",
      "5104       children          Rural             103.08  18.600000   \n",
      "5105        Private          Urban              83.75  28.893237   \n",
      "5107  Self-employed          Rural              82.99  30.600000   \n",
      "5108        Private          Rural             166.29  25.600000   \n",
      "5109       Govt_job          Urban              85.28  26.200000   \n",
      "\n",
      "       smoking_status  stroke  \n",
      "0     formerly smoked       1  \n",
      "1        never smoked       1  \n",
      "2        never smoked       1  \n",
      "3              smokes       1  \n",
      "4        never smoked       1  \n",
      "...               ...     ...  \n",
      "5104          Unknown       0  \n",
      "5105     never smoked       0  \n",
      "5107     never smoked       0  \n",
      "5108  formerly smoked       0  \n",
      "5109          Unknown       0  \n",
      "\n",
      "[4854 rows x 12 columns]\n"
     ]
    }
   ],
   "source": [
    "from sklearn.ensemble import IsolationForest\n",
    "numericalColumns = ['age', 'bmi']\n",
    "dataForOutlier = file[numericalColumns]\n",
    "outlierModel = IsolationForest(contamination=0.05, random_state=42)\n",
    "outlierModel.fit(dataForOutlier)\n",
    "outlierPredictions = outlierModel.predict(dataForOutlier)\n",
    "outlierMask = outlierPredictions == 1\n",
    "fileCleaned = file[outlierMask]\n",
    "print(fileCleaned)"
   ]
  },
  {
   "cell_type": "code",
   "execution_count": 24,
   "id": "c338a5e3-3349-46db-af36-2e6e85de3082",
   "metadata": {
    "scrolled": true
   },
   "outputs": [
    {
     "name": "stdout",
     "output_type": "stream",
     "text": [
      "            id  gender       age  hypertension  heart_disease ever_married  \\\n",
      "0     0.123214    Male  0.816895           0.0            1.0          Yes   \n",
      "1     0.708205  Female  0.743652           0.0            0.0          Yes   \n",
      "2     0.426015    Male  0.975586           0.0            1.0          Yes   \n",
      "3     0.824928  Female  0.597168           0.0            0.0          Yes   \n",
      "4     0.021929  Female  0.963379           1.0            0.0          Yes   \n",
      "...        ...     ...       ...           ...            ...          ...   \n",
      "5105  0.249297  Female  0.975586           1.0            0.0          Yes   \n",
      "5106  0.614850  Female  0.987793           0.0            0.0          Yes   \n",
      "5107  0.269730  Female  0.426270           0.0            0.0          Yes   \n",
      "5108  0.514278    Male  0.621582           0.0            0.0          Yes   \n",
      "5109  0.612188  Female  0.536133           0.0            0.0          Yes   \n",
      "\n",
      "          work_type Residence_type  avg_glucose_level       bmi  \\\n",
      "0           Private          Urban           0.801265  0.301260   \n",
      "1     Self-employed          Rural           0.679023  0.212981   \n",
      "2           Private          Rural           0.234512  0.254296   \n",
      "3           Private          Urban           0.536008  0.276060   \n",
      "4     Self-employed          Rural           0.549349  0.156930   \n",
      "...             ...            ...                ...       ...   \n",
      "5105        Private          Urban           0.132167  0.212981   \n",
      "5106  Self-employed          Urban           0.323516  0.340206   \n",
      "5107  Self-employed          Rural           0.128658  0.232532   \n",
      "5108        Private          Rural           0.513203  0.175258   \n",
      "5109       Govt_job          Urban           0.139230  0.182131   \n",
      "\n",
      "       smoking_status  stroke  \n",
      "0     formerly smoked     1.0  \n",
      "1        never smoked     1.0  \n",
      "2        never smoked     1.0  \n",
      "3              smokes     1.0  \n",
      "4        never smoked     1.0  \n",
      "...               ...     ...  \n",
      "5105     never smoked     0.0  \n",
      "5106     never smoked     0.0  \n",
      "5107     never smoked     0.0  \n",
      "5108  formerly smoked     0.0  \n",
      "5109          Unknown     0.0  \n",
      "\n",
      "[5110 rows x 12 columns]\n"
     ]
    }
   ],
   "source": [
    "numericalColumns = file.select_dtypes(include=[np.number]).columns\n",
    "\n",
    "for column in numericalColumns: # Applied Min-Max Scaling\n",
    "    minValue = file[column].min()\n",
    "    maxValue = file[column].max()\n",
    "    file[column] = (file[column] - minValue) / (maxValue - minValue)\n",
    "\n",
    "print(file)"
   ]
  },
  {
   "cell_type": "code",
   "execution_count": 25,
   "id": "3bd926f4-6c4a-4c2b-b216-64a1c21b9cd8",
   "metadata": {},
   "outputs": [
    {
     "name": "stdout",
     "output_type": "stream",
     "text": [
      "            id       age  hypertension  heart_disease  avg_glucose_level  \\\n",
      "0     0.123214  0.816895           0.0            1.0           0.801265   \n",
      "1     0.708205  0.743652           0.0            0.0           0.679023   \n",
      "2     0.426015  0.975586           0.0            1.0           0.234512   \n",
      "3     0.824928  0.597168           0.0            0.0           0.536008   \n",
      "4     0.021929  0.963379           1.0            0.0           0.549349   \n",
      "...        ...       ...           ...            ...                ...   \n",
      "5105  0.249297  0.975586           1.0            0.0           0.132167   \n",
      "5106  0.614850  0.987793           0.0            0.0           0.323516   \n",
      "5107  0.269730  0.426270           0.0            0.0           0.128658   \n",
      "5108  0.514278  0.621582           0.0            0.0           0.513203   \n",
      "5109  0.612188  0.536133           0.0            0.0           0.139230   \n",
      "\n",
      "           bmi  stroke  gender_Male  gender_Other  ever_married_Yes  \\\n",
      "0     0.301260     1.0         True         False              True   \n",
      "1     0.212981     1.0        False         False              True   \n",
      "2     0.254296     1.0         True         False              True   \n",
      "3     0.276060     1.0        False         False              True   \n",
      "4     0.156930     1.0        False         False              True   \n",
      "...        ...     ...          ...           ...               ...   \n",
      "5105  0.212981     0.0        False         False              True   \n",
      "5106  0.340206     0.0        False         False              True   \n",
      "5107  0.232532     0.0        False         False              True   \n",
      "5108  0.175258     0.0         True         False              True   \n",
      "5109  0.182131     0.0        False         False              True   \n",
      "\n",
      "      work_type_Never_worked  work_type_Private  work_type_Self-employed  \\\n",
      "0                      False               True                    False   \n",
      "1                      False              False                     True   \n",
      "2                      False               True                    False   \n",
      "3                      False               True                    False   \n",
      "4                      False              False                     True   \n",
      "...                      ...                ...                      ...   \n",
      "5105                   False               True                    False   \n",
      "5106                   False              False                     True   \n",
      "5107                   False              False                     True   \n",
      "5108                   False               True                    False   \n",
      "5109                   False              False                    False   \n",
      "\n",
      "      work_type_children  Residence_type_Urban  \\\n",
      "0                  False                  True   \n",
      "1                  False                 False   \n",
      "2                  False                 False   \n",
      "3                  False                  True   \n",
      "4                  False                 False   \n",
      "...                  ...                   ...   \n",
      "5105               False                  True   \n",
      "5106               False                  True   \n",
      "5107               False                 False   \n",
      "5108               False                 False   \n",
      "5109               False                  True   \n",
      "\n",
      "      smoking_status_formerly smoked  smoking_status_never smoked  \\\n",
      "0                               True                        False   \n",
      "1                              False                         True   \n",
      "2                              False                         True   \n",
      "3                              False                        False   \n",
      "4                              False                         True   \n",
      "...                              ...                          ...   \n",
      "5105                           False                         True   \n",
      "5106                           False                         True   \n",
      "5107                           False                         True   \n",
      "5108                            True                        False   \n",
      "5109                           False                        False   \n",
      "\n",
      "      smoking_status_smokes  \n",
      "0                     False  \n",
      "1                     False  \n",
      "2                     False  \n",
      "3                      True  \n",
      "4                     False  \n",
      "...                     ...  \n",
      "5105                  False  \n",
      "5106                  False  \n",
      "5107                  False  \n",
      "5108                  False  \n",
      "5109                  False  \n",
      "\n",
      "[5110 rows x 18 columns]\n"
     ]
    }
   ],
   "source": [
    "fileEncoded = pd.get_dummies(file, columns=['gender', 'ever_married', 'work_type', 'Residence_type', 'smoking_status'], drop_first=True)\n",
    "print(fileEncoded)"
   ]
  },
  {
   "cell_type": "code",
   "execution_count": 26,
   "id": "9d4ae9d1-a4f0-4f06-869a-5942518a8762",
   "metadata": {},
   "outputs": [],
   "source": [
    "#New feature: bmi_category\n",
    "def bmiToBmiCategory(bmi):\n",
    "    if bmi < 18.5:\n",
    "        return 'Underweight'\n",
    "    elif 18.5 <= bmi <= 24.9:\n",
    "        return 'Normal'\n",
    "    elif 25 <= bmi <= 29.9:\n",
    "        return 'Overweight'\n",
    "    elif 30 <= bmi <= 34.9:\n",
    "        return 'Obese-1'\n",
    "    elif 35 <= bmi <= 39.9:\n",
    "        return 'Obese-2'\n",
    "    elif bmi >= 40:\n",
    "        return 'Obese-3'\n",
    "    \n",
    "fileEncoded['bmiCategory'] = fileEncoded.apply(lambda row: bmiToBmiCategory(row['bmi']), axis=1)"
   ]
  },
  {
   "cell_type": "code",
   "execution_count": 27,
   "id": "df948244-cbaf-4b0d-8584-fed9cfb1d63a",
   "metadata": {},
   "outputs": [
    {
     "name": "stdout",
     "output_type": "stream",
     "text": [
      "         id       age  hypertension  heart_disease  avg_glucose_level  \\\n",
      "0  0.123214  0.816895           0.0            1.0           0.801265   \n",
      "1  0.708205  0.743652           0.0            0.0           0.679023   \n",
      "2  0.426015  0.975586           0.0            1.0           0.234512   \n",
      "3  0.824928  0.597168           0.0            0.0           0.536008   \n",
      "4  0.021929  0.963379           1.0            0.0           0.549349   \n",
      "\n",
      "        bmi  stroke  gender_Male  gender_Other  ever_married_Yes  ...  \\\n",
      "0  0.301260     1.0         True         False              True  ...   \n",
      "1  0.212981     1.0        False         False              True  ...   \n",
      "2  0.254296     1.0         True         False              True  ...   \n",
      "3  0.276060     1.0        False         False              True  ...   \n",
      "4  0.156930     1.0        False         False              True  ...   \n",
      "\n",
      "   work_type_Private  work_type_Self-employed  work_type_children  \\\n",
      "0               True                    False               False   \n",
      "1              False                     True               False   \n",
      "2               True                    False               False   \n",
      "3               True                    False               False   \n",
      "4              False                     True               False   \n",
      "\n",
      "   Residence_type_Urban  smoking_status_formerly smoked  \\\n",
      "0                  True                            True   \n",
      "1                 False                           False   \n",
      "2                 False                           False   \n",
      "3                  True                           False   \n",
      "4                 False                           False   \n",
      "\n",
      "   smoking_status_never smoked  smoking_status_smokes  bmiCategory ageGroup  \\\n",
      "0                        False                  False  Underweight    Young   \n",
      "1                         True                  False  Underweight    Young   \n",
      "2                         True                  False  Underweight    Young   \n",
      "3                        False                   True  Underweight    Young   \n",
      "4                         True                  False  Underweight    Young   \n",
      "\n",
      "  glucose_level_category  \n",
      "0                    Low  \n",
      "1                    Low  \n",
      "2                    Low  \n",
      "3                    Low  \n",
      "4                    Low  \n",
      "\n",
      "[5 rows x 21 columns]\n"
     ]
    }
   ],
   "source": [
    "#New feature:Age Group\n",
    "ageDiv = [0, 18, 45, 60, float('inf')]\n",
    "ageLabels = ['Young', 'Middle-Aged', 'Senior', 'Elderly']\n",
    "fileEncoded['ageGroup'] = pd.cut(fileEncoded['age'], bins=ageDiv, labels=ageLabels, right=False)\n",
    "\n",
    "# New feature: Glucose Level Category\n",
    "glucoseDiv = [0, 100, 140, float('inf')]\n",
    "glucoseLabels = ['Low', 'Normal', 'High']\n",
    "fileEncoded['glucose_level_category'] = pd.cut(fileEncoded['avg_glucose_level'], bins=glucoseDiv, labels=glucoseLabels, right=False)\n",
    "\n",
    "print(fileEncoded.head())"
   ]
  },
  {
   "cell_type": "code",
   "execution_count": 28,
   "id": "169d6320-c4c7-4243-9828-5f9c5210cbf8",
   "metadata": {},
   "outputs": [],
   "source": [
    "fileEncoded.to_csv(\"Resultant_CSV.csv\", index=False)"
   ]
  }
 ],
 "metadata": {
  "kernelspec": {
   "display_name": "Python 3 (ipykernel)",
   "language": "python",
   "name": "python3"
  },
  "language_info": {
   "codemirror_mode": {
    "name": "ipython",
    "version": 3
   },
   "file_extension": ".py",
   "mimetype": "text/x-python",
   "name": "python",
   "nbconvert_exporter": "python",
   "pygments_lexer": "ipython3",
   "version": "3.10.11"
  }
 },
 "nbformat": 4,
 "nbformat_minor": 5
}
